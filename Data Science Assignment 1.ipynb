{
 "cells": [
  {
   "cell_type": "code",
   "execution_count": 6,
   "id": "5d6d5829",
   "metadata": {},
   "outputs": [
    {
     "name": "stdout",
     "output_type": "stream",
     "text": [
      "Twinkle,twinkle,little star,\n",
      "\tHow I wonder what you are,\n",
      "\t\tUp above the world so high,\n",
      "\t\tLike a diamond in the sky,\n",
      "Twinkle,twinkle,little star,\n",
      "\tHow I wonder what you are\n"
     ]
    }
   ],
   "source": [
    "print('Twinkle,twinkle,little star,\\n\\tHow I wonder what you are,\\n\\t\\tUp above the world so high,'+\n",
    "      '\\n\\t\\tLike a diamond in the sky,\\nTwinkle,twinkle,little star,\\n\\tHow I wonder what you are')"
   ]
  },
  {
   "cell_type": "code",
   "execution_count": 9,
   "id": "be27aab9",
   "metadata": {},
   "outputs": [
    {
     "data": {
      "text/plain": [
       "'3.10.0'"
      ]
     },
     "execution_count": 9,
     "metadata": {},
     "output_type": "execute_result"
    }
   ],
   "source": [
    "from platform import python_version\n",
    "python_version()\n"
   ]
  },
  {
   "cell_type": "code",
   "execution_count": 13,
   "id": "3598832e",
   "metadata": {},
   "outputs": [
    {
     "name": "stdout",
     "output_type": "stream",
     "text": [
      "2021-12-29 00:03:19.912616\n"
     ]
    }
   ],
   "source": [
    "from datetime import datetime\n",
    "print(datetime.now())"
   ]
  },
  {
   "cell_type": "code",
   "execution_count": 17,
   "id": "dc0f82da",
   "metadata": {},
   "outputs": [
    {
     "name": "stdout",
     "output_type": "stream",
     "text": [
      "Enter radius of circle: 12\n",
      "452.39\n"
     ]
    }
   ],
   "source": [
    "from math import pi\n",
    "r = float(input('Enter radius of circle: '))\n",
    "A = pi*pow(r,2)\n",
    "print(round(A,2))"
   ]
  },
  {
   "cell_type": "code",
   "execution_count": 21,
   "id": "e7ea7da8",
   "metadata": {},
   "outputs": [
    {
     "name": "stdout",
     "output_type": "stream",
     "text": [
      "Enter your first name: Abdulla\n",
      "Enter your last name: Kha\n",
      "Kha Abdulla\n"
     ]
    }
   ],
   "source": [
    "f_name = str(input('Enter your first name: '))\n",
    "l_name = str(input('Enter your last name: '))\n",
    "print(l_name+'',f_name)"
   ]
  },
  {
   "cell_type": "code",
   "execution_count": 28,
   "id": "a9dfd849",
   "metadata": {},
   "outputs": [
    {
     "name": "stdout",
     "output_type": "stream",
     "text": [
      "Enter 1st number: 12\n",
      "Enter 2nd number: 12\n",
      "Sum = 24\n"
     ]
    }
   ],
   "source": [
    "a = int(input('Enter 1st number: '))\n",
    "b = int(input('Enter 2nd number: '))\n",
    "\n",
    "print('Sum =',a+b)"
   ]
  },
  {
   "cell_type": "code",
   "execution_count": null,
   "id": "c8bdc49d",
   "metadata": {},
   "outputs": [],
   "source": []
  }
 ],
 "metadata": {
  "kernelspec": {
   "display_name": "Python 3.10.0 64-bit",
   "language": "python",
   "name": "python3100jvsc74a57bd0d0d928e545beeef79bd52fae25454891351cc3d02ee39b4b4b8438e2a6665aac"
  },
  "language_info": {
   "codemirror_mode": {
    "name": "ipython",
    "version": 3
   },
   "file_extension": ".py",
   "mimetype": "text/x-python",
   "name": "python",
   "nbconvert_exporter": "python",
   "pygments_lexer": "ipython3",
   "version": "3.10.0"
  }
 },
 "nbformat": 4,
 "nbformat_minor": 5
}
